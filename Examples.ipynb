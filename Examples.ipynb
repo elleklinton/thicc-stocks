{
 "cells": [
  {
   "cell_type": "code",
   "execution_count": 1,
   "metadata": {},
   "outputs": [
    {
     "name": "stdout",
     "output_type": "stream",
     "text": [
      "INFO:tensorflow:Enabling eager execution\n",
      "INFO:tensorflow:Enabling v2 tensorshape\n",
      "INFO:tensorflow:Enabling resource variables\n",
      "INFO:tensorflow:Enabling tensor equality\n",
      "INFO:tensorflow:Enabling control flow v2\n"
     ]
    }
   ],
   "source": [
    "import pandas as pd\n",
    "import numpy as np\n",
    "import tensorflow as tf\n",
    "from tensorflow import keras\n",
    "from tensorflow.keras import layers\n",
    "from datetime import timedelta\n",
    "\n",
    "from lib.data.dataset import Dataset\n",
    "from lib.scraper.scraper import Scraper\n",
    "from lib.scraper.ticker import CommonTickers\n",
    "from lib.data.feature_generator import FeatureGenerator\n",
    "from lib.data.features.common_features import CommonFeatures\n",
    "from lib.data.features.common_targets import CommonTargets"
   ]
  },
  {
   "cell_type": "markdown",
   "metadata": {},
   "source": [
    "First, we need to scrape the data from IEX cloud. This is done via the Scraper class."
   ]
  },
  {
   "cell_type": "code",
   "execution_count": 2,
   "metadata": {},
   "outputs": [
    {
     "data": {
      "text/plain": [
       "<lib.scraper.scraper.Scraper at 0x108492700>"
      ]
     },
     "execution_count": 2,
     "metadata": {},
     "output_type": "execute_result"
    }
   ],
   "source": [
    "s = Scraper(\n",
    "    config_file='lib/scraper/config/iexcloud-sandbox-private.json',\n",
    "    should_print=False\n",
    ")\n",
    "\n",
    "s"
   ]
  },
  {
   "cell_type": "markdown",
   "metadata": {},
   "source": [
    "Next, we need to actually scrape the data.\n",
    "\n",
    "\n",
    "*Note: In this example, we will use sandbox data from IEXCloud. This data is random and does not reflect actual stock data. Therefor, this example is for demonstration purposes only.*"
   ]
  },
  {
   "cell_type": "code",
   "execution_count": 3,
   "metadata": {},
   "outputs": [
    {
     "data": {
      "text/html": [
       "<div>\n",
       "<style scoped>\n",
       "    .dataframe tbody tr th:only-of-type {\n",
       "        vertical-align: middle;\n",
       "    }\n",
       "\n",
       "    .dataframe tbody tr th {\n",
       "        vertical-align: top;\n",
       "    }\n",
       "\n",
       "    .dataframe thead th {\n",
       "        text-align: right;\n",
       "    }\n",
       "</style>\n",
       "<table border=\"1\" class=\"dataframe\">\n",
       "  <thead>\n",
       "    <tr style=\"text-align: right;\">\n",
       "      <th></th>\n",
       "      <th>minute</th>\n",
       "      <th>label</th>\n",
       "      <th>high</th>\n",
       "      <th>low</th>\n",
       "      <th>average</th>\n",
       "      <th>volume</th>\n",
       "      <th>notional</th>\n",
       "      <th>numberOfTrades</th>\n",
       "      <th>marketHigh</th>\n",
       "      <th>marketLow</th>\n",
       "      <th>marketAverage</th>\n",
       "      <th>marketVolume</th>\n",
       "      <th>marketNotional</th>\n",
       "      <th>marketNumberOfTrades</th>\n",
       "      <th>open</th>\n",
       "      <th>close</th>\n",
       "      <th>marketOpen</th>\n",
       "      <th>marketClose</th>\n",
       "      <th>changeOverTime</th>\n",
       "      <th>marketChangeOverTime</th>\n",
       "    </tr>\n",
       "    <tr>\n",
       "      <th>date</th>\n",
       "      <th></th>\n",
       "      <th></th>\n",
       "      <th></th>\n",
       "      <th></th>\n",
       "      <th></th>\n",
       "      <th></th>\n",
       "      <th></th>\n",
       "      <th></th>\n",
       "      <th></th>\n",
       "      <th></th>\n",
       "      <th></th>\n",
       "      <th></th>\n",
       "      <th></th>\n",
       "      <th></th>\n",
       "      <th></th>\n",
       "      <th></th>\n",
       "      <th></th>\n",
       "      <th></th>\n",
       "      <th></th>\n",
       "      <th></th>\n",
       "    </tr>\n",
       "  </thead>\n",
       "  <tbody>\n",
       "    <tr>\n",
       "      <th>2021-04-20</th>\n",
       "      <td>09:30</td>\n",
       "      <td>09:30 AM</td>\n",
       "      <td>194.550</td>\n",
       "      <td>187.393</td>\n",
       "      <td>195.423</td>\n",
       "      <td>3606</td>\n",
       "      <td>663927.138</td>\n",
       "      <td>92</td>\n",
       "      <td>192.13</td>\n",
       "      <td>191.500</td>\n",
       "      <td>193.288</td>\n",
       "      <td>202651</td>\n",
       "      <td>3.742857e+07</td>\n",
       "      <td>211</td>\n",
       "      <td>191.790</td>\n",
       "      <td>191.440</td>\n",
       "      <td>194.33</td>\n",
       "      <td>193.640</td>\n",
       "      <td>0.000000</td>\n",
       "      <td>0.000000</td>\n",
       "    </tr>\n",
       "    <tr>\n",
       "      <th>2021-04-20</th>\n",
       "      <td>09:31</td>\n",
       "      <td>09:31 AM</td>\n",
       "      <td>193.480</td>\n",
       "      <td>191.740</td>\n",
       "      <td>196.159</td>\n",
       "      <td>582</td>\n",
       "      <td>106573.470</td>\n",
       "      <td>12</td>\n",
       "      <td>189.18</td>\n",
       "      <td>193.926</td>\n",
       "      <td>188.780</td>\n",
       "      <td>34240</td>\n",
       "      <td>6.383953e+06</td>\n",
       "      <td>123</td>\n",
       "      <td>196.730</td>\n",
       "      <td>187.590</td>\n",
       "      <td>190.73</td>\n",
       "      <td>189.859</td>\n",
       "      <td>-0.000486</td>\n",
       "      <td>0.001917</td>\n",
       "    </tr>\n",
       "    <tr>\n",
       "      <th>2021-04-20</th>\n",
       "      <td>09:32</td>\n",
       "      <td>09:32 AM</td>\n",
       "      <td>190.179</td>\n",
       "      <td>192.010</td>\n",
       "      <td>192.846</td>\n",
       "      <td>211</td>\n",
       "      <td>37880.130</td>\n",
       "      <td>7</td>\n",
       "      <td>194.74</td>\n",
       "      <td>192.390</td>\n",
       "      <td>187.120</td>\n",
       "      <td>25793</td>\n",
       "      <td>4.952529e+06</td>\n",
       "      <td>144</td>\n",
       "      <td>193.784</td>\n",
       "      <td>190.467</td>\n",
       "      <td>190.50</td>\n",
       "      <td>196.130</td>\n",
       "      <td>-0.003824</td>\n",
       "      <td>-0.001401</td>\n",
       "    </tr>\n",
       "    <tr>\n",
       "      <th>2021-04-20</th>\n",
       "      <td>09:33</td>\n",
       "      <td>09:33 AM</td>\n",
       "      <td>191.540</td>\n",
       "      <td>186.920</td>\n",
       "      <td>196.008</td>\n",
       "      <td>912</td>\n",
       "      <td>167921.870</td>\n",
       "      <td>10</td>\n",
       "      <td>187.41</td>\n",
       "      <td>188.890</td>\n",
       "      <td>196.065</td>\n",
       "      <td>12507</td>\n",
       "      <td>2.388168e+06</td>\n",
       "      <td>98</td>\n",
       "      <td>188.060</td>\n",
       "      <td>193.160</td>\n",
       "      <td>191.33</td>\n",
       "      <td>192.730</td>\n",
       "      <td>-0.004421</td>\n",
       "      <td>-0.002486</td>\n",
       "    </tr>\n",
       "    <tr>\n",
       "      <th>2021-04-20</th>\n",
       "      <td>09:34</td>\n",
       "      <td>09:34 AM</td>\n",
       "      <td>191.810</td>\n",
       "      <td>186.750</td>\n",
       "      <td>193.991</td>\n",
       "      <td>536</td>\n",
       "      <td>101135.640</td>\n",
       "      <td>9</td>\n",
       "      <td>187.63</td>\n",
       "      <td>193.930</td>\n",
       "      <td>188.021</td>\n",
       "      <td>9751</td>\n",
       "      <td>1.829149e+06</td>\n",
       "      <td>74</td>\n",
       "      <td>195.430</td>\n",
       "      <td>192.690</td>\n",
       "      <td>187.08</td>\n",
       "      <td>193.100</td>\n",
       "      <td>-0.004533</td>\n",
       "      <td>-0.002895</td>\n",
       "    </tr>\n",
       "  </tbody>\n",
       "</table>\n",
       "</div>"
      ],
      "text/plain": [
       "           minute     label     high      low  average  volume    notional  \\\n",
       "date                                                                         \n",
       "2021-04-20  09:30  09:30 AM  194.550  187.393  195.423    3606  663927.138   \n",
       "2021-04-20  09:31  09:31 AM  193.480  191.740  196.159     582  106573.470   \n",
       "2021-04-20  09:32  09:32 AM  190.179  192.010  192.846     211   37880.130   \n",
       "2021-04-20  09:33  09:33 AM  191.540  186.920  196.008     912  167921.870   \n",
       "2021-04-20  09:34  09:34 AM  191.810  186.750  193.991     536  101135.640   \n",
       "\n",
       "            numberOfTrades  marketHigh  marketLow  marketAverage  \\\n",
       "date                                                               \n",
       "2021-04-20              92      192.13    191.500        193.288   \n",
       "2021-04-20              12      189.18    193.926        188.780   \n",
       "2021-04-20               7      194.74    192.390        187.120   \n",
       "2021-04-20              10      187.41    188.890        196.065   \n",
       "2021-04-20               9      187.63    193.930        188.021   \n",
       "\n",
       "            marketVolume  marketNotional  marketNumberOfTrades     open  \\\n",
       "date                                                                      \n",
       "2021-04-20        202651    3.742857e+07                   211  191.790   \n",
       "2021-04-20         34240    6.383953e+06                   123  196.730   \n",
       "2021-04-20         25793    4.952529e+06                   144  193.784   \n",
       "2021-04-20         12507    2.388168e+06                    98  188.060   \n",
       "2021-04-20          9751    1.829149e+06                    74  195.430   \n",
       "\n",
       "              close  marketOpen  marketClose  changeOverTime  \\\n",
       "date                                                           \n",
       "2021-04-20  191.440      194.33      193.640        0.000000   \n",
       "2021-04-20  187.590      190.73      189.859       -0.000486   \n",
       "2021-04-20  190.467      190.50      196.130       -0.003824   \n",
       "2021-04-20  193.160      191.33      192.730       -0.004421   \n",
       "2021-04-20  192.690      187.08      193.100       -0.004533   \n",
       "\n",
       "            marketChangeOverTime  \n",
       "date                              \n",
       "2021-04-20              0.000000  \n",
       "2021-04-20              0.001917  \n",
       "2021-04-20             -0.001401  \n",
       "2021-04-20             -0.002486  \n",
       "2021-04-20             -0.002895  "
      ]
     },
     "execution_count": 3,
     "metadata": {},
     "output_type": "execute_result"
    }
   ],
   "source": [
    "disney_data, disney_filename = s.get_intraday_stock_data(\n",
    "    ticker=CommonTickers.DISNEY,\n",
    "    start='2021-04-20',\n",
    "    end='2021-04-29',\n",
    "    time_delta=timedelta(days=1),\n",
    "    save_data=True\n",
    ")\n",
    "\n",
    "disney_data.head()"
   ]
  },
  {
   "cell_type": "markdown",
   "metadata": {},
   "source": [
    "Now, we need to generate some features for our data and clean it up a bit:"
   ]
  },
  {
   "cell_type": "code",
   "execution_count": 4,
   "metadata": {},
   "outputs": [
    {
     "data": {
      "text/plain": [
       "<lib.data.feature_generator.FeatureGenerator at 0x17f16fbb0>"
      ]
     },
     "execution_count": 4,
     "metadata": {},
     "output_type": "execute_result"
    }
   ],
   "source": [
    "feature_generator = FeatureGenerator(\n",
    "    filename=disney_filename,\n",
    "    auto_clean=True,\n",
    "    parse_dates=True\n",
    ")\n",
    "\n",
    "feature_generator"
   ]
  },
  {
   "cell_type": "code",
   "execution_count": 5,
   "metadata": {},
   "outputs": [],
   "source": [
    "feature_generator.build_features(\n",
    "    [\n",
    "        CommonFeatures.Sinify('day_of_year', period=365),\n",
    "        CommonFeatures.Cosify('day_of_year', period=365),\n",
    "        CommonFeatures.Sinify('minute_of_day', period=(60 * 24)),\n",
    "        CommonFeatures.Cosify('minute_of_day', period=(60 * 24)),\n",
    "        CommonFeatures.OneHotEncoder('weekday'),\n",
    "        CommonFeatures.OneHotEncoder('hour_of_day')\n",
    "    ]\n",
    ")"
   ]
  },
  {
   "cell_type": "markdown",
   "metadata": {},
   "source": [
    "Now, let's add some targets to our data that we will try to predict!"
   ]
  },
  {
   "cell_type": "code",
   "execution_count": 6,
   "metadata": {},
   "outputs": [],
   "source": [
    "feature_generator.build_features(\n",
    "    [\n",
    "        CommonTargets.FutureValue(feature='marketLow', target_time_delta=timedelta(minutes=1)),\n",
    "        CommonTargets.FutureValueChange(feature='future_value')  # This is the feature generated directly above\n",
    "    ]\n",
    "\n",
    ")"
   ]
  },
  {
   "cell_type": "markdown",
   "metadata": {},
   "source": [
    "Now that we have our features generated, we can generate a dataset from our features:"
   ]
  },
  {
   "cell_type": "code",
   "execution_count": 7,
   "metadata": {},
   "outputs": [
    {
     "data": {
      "text/html": [
       "<div>\n",
       "<style scoped>\n",
       "    .dataframe tbody tr th:only-of-type {\n",
       "        vertical-align: middle;\n",
       "    }\n",
       "\n",
       "    .dataframe tbody tr th {\n",
       "        vertical-align: top;\n",
       "    }\n",
       "\n",
       "    .dataframe thead th {\n",
       "        text-align: right;\n",
       "    }\n",
       "</style>\n",
       "<table border=\"1\" class=\"dataframe\">\n",
       "  <thead>\n",
       "    <tr style=\"text-align: right;\">\n",
       "      <th></th>\n",
       "      <th>marketHigh</th>\n",
       "      <th>marketLow</th>\n",
       "      <th>marketAverage</th>\n",
       "      <th>marketVolume</th>\n",
       "      <th>marketNotional</th>\n",
       "      <th>marketNumberOfTrades</th>\n",
       "      <th>marketOpen</th>\n",
       "      <th>marketClose</th>\n",
       "      <th>marketChangeOverTime</th>\n",
       "      <th>year</th>\n",
       "      <th>...</th>\n",
       "      <th>weekday_Tuesday</th>\n",
       "      <th>weekday_Wednesday</th>\n",
       "      <th>hour_of_day_10</th>\n",
       "      <th>hour_of_day_11</th>\n",
       "      <th>hour_of_day_12</th>\n",
       "      <th>hour_of_day_13</th>\n",
       "      <th>hour_of_day_14</th>\n",
       "      <th>hour_of_day_15</th>\n",
       "      <th>future_value</th>\n",
       "      <th>future_value_change</th>\n",
       "    </tr>\n",
       "    <tr>\n",
       "      <th>timestamp</th>\n",
       "      <th></th>\n",
       "      <th></th>\n",
       "      <th></th>\n",
       "      <th></th>\n",
       "      <th></th>\n",
       "      <th></th>\n",
       "      <th></th>\n",
       "      <th></th>\n",
       "      <th></th>\n",
       "      <th></th>\n",
       "      <th></th>\n",
       "      <th></th>\n",
       "      <th></th>\n",
       "      <th></th>\n",
       "      <th></th>\n",
       "      <th></th>\n",
       "      <th></th>\n",
       "      <th></th>\n",
       "      <th></th>\n",
       "      <th></th>\n",
       "      <th></th>\n",
       "    </tr>\n",
       "  </thead>\n",
       "  <tbody>\n",
       "    <tr>\n",
       "      <th>2021-04-20 09:30:00</th>\n",
       "      <td>192.13</td>\n",
       "      <td>191.500</td>\n",
       "      <td>193.288</td>\n",
       "      <td>202651.0</td>\n",
       "      <td>3.742857e+07</td>\n",
       "      <td>211.0</td>\n",
       "      <td>194.33</td>\n",
       "      <td>193.640</td>\n",
       "      <td>0.000000</td>\n",
       "      <td>2021.0</td>\n",
       "      <td>...</td>\n",
       "      <td>1.0</td>\n",
       "      <td>0.0</td>\n",
       "      <td>0.0</td>\n",
       "      <td>0.0</td>\n",
       "      <td>0.0</td>\n",
       "      <td>0.0</td>\n",
       "      <td>0.0</td>\n",
       "      <td>0.0</td>\n",
       "      <td>193.926</td>\n",
       "      <td>-0.007921</td>\n",
       "    </tr>\n",
       "    <tr>\n",
       "      <th>2021-04-20 09:31:00</th>\n",
       "      <td>189.18</td>\n",
       "      <td>193.926</td>\n",
       "      <td>188.780</td>\n",
       "      <td>34240.0</td>\n",
       "      <td>6.383953e+06</td>\n",
       "      <td>123.0</td>\n",
       "      <td>190.73</td>\n",
       "      <td>189.859</td>\n",
       "      <td>0.001917</td>\n",
       "      <td>2021.0</td>\n",
       "      <td>...</td>\n",
       "      <td>1.0</td>\n",
       "      <td>0.0</td>\n",
       "      <td>0.0</td>\n",
       "      <td>0.0</td>\n",
       "      <td>0.0</td>\n",
       "      <td>0.0</td>\n",
       "      <td>0.0</td>\n",
       "      <td>0.0</td>\n",
       "      <td>192.390</td>\n",
       "      <td>-0.018192</td>\n",
       "    </tr>\n",
       "    <tr>\n",
       "      <th>2021-04-20 09:32:00</th>\n",
       "      <td>194.74</td>\n",
       "      <td>192.390</td>\n",
       "      <td>187.120</td>\n",
       "      <td>25793.0</td>\n",
       "      <td>4.952529e+06</td>\n",
       "      <td>144.0</td>\n",
       "      <td>190.50</td>\n",
       "      <td>196.130</td>\n",
       "      <td>-0.001401</td>\n",
       "      <td>2021.0</td>\n",
       "      <td>...</td>\n",
       "      <td>1.0</td>\n",
       "      <td>0.0</td>\n",
       "      <td>0.0</td>\n",
       "      <td>0.0</td>\n",
       "      <td>0.0</td>\n",
       "      <td>0.0</td>\n",
       "      <td>0.0</td>\n",
       "      <td>0.0</td>\n",
       "      <td>188.890</td>\n",
       "      <td>0.026682</td>\n",
       "    </tr>\n",
       "    <tr>\n",
       "      <th>2021-04-20 09:33:00</th>\n",
       "      <td>187.41</td>\n",
       "      <td>188.890</td>\n",
       "      <td>196.065</td>\n",
       "      <td>12507.0</td>\n",
       "      <td>2.388168e+06</td>\n",
       "      <td>98.0</td>\n",
       "      <td>191.33</td>\n",
       "      <td>192.730</td>\n",
       "      <td>-0.002486</td>\n",
       "      <td>2021.0</td>\n",
       "      <td>...</td>\n",
       "      <td>1.0</td>\n",
       "      <td>0.0</td>\n",
       "      <td>0.0</td>\n",
       "      <td>0.0</td>\n",
       "      <td>0.0</td>\n",
       "      <td>0.0</td>\n",
       "      <td>0.0</td>\n",
       "      <td>0.0</td>\n",
       "      <td>193.930</td>\n",
       "      <td>0.007941</td>\n",
       "    </tr>\n",
       "    <tr>\n",
       "      <th>2021-04-20 09:34:00</th>\n",
       "      <td>187.63</td>\n",
       "      <td>193.930</td>\n",
       "      <td>188.021</td>\n",
       "      <td>9751.0</td>\n",
       "      <td>1.829149e+06</td>\n",
       "      <td>74.0</td>\n",
       "      <td>187.08</td>\n",
       "      <td>193.100</td>\n",
       "      <td>-0.002895</td>\n",
       "      <td>2021.0</td>\n",
       "      <td>...</td>\n",
       "      <td>1.0</td>\n",
       "      <td>0.0</td>\n",
       "      <td>0.0</td>\n",
       "      <td>0.0</td>\n",
       "      <td>0.0</td>\n",
       "      <td>0.0</td>\n",
       "      <td>0.0</td>\n",
       "      <td>0.0</td>\n",
       "      <td>195.470</td>\n",
       "      <td>-0.043536</td>\n",
       "    </tr>\n",
       "  </tbody>\n",
       "</table>\n",
       "<p>5 rows × 29 columns</p>\n",
       "</div>"
      ],
      "text/plain": [
       "                     marketHigh  marketLow  marketAverage  marketVolume  \\\n",
       "timestamp                                                                 \n",
       "2021-04-20 09:30:00      192.13    191.500        193.288      202651.0   \n",
       "2021-04-20 09:31:00      189.18    193.926        188.780       34240.0   \n",
       "2021-04-20 09:32:00      194.74    192.390        187.120       25793.0   \n",
       "2021-04-20 09:33:00      187.41    188.890        196.065       12507.0   \n",
       "2021-04-20 09:34:00      187.63    193.930        188.021        9751.0   \n",
       "\n",
       "                     marketNotional  marketNumberOfTrades  marketOpen  \\\n",
       "timestamp                                                               \n",
       "2021-04-20 09:30:00    3.742857e+07                 211.0      194.33   \n",
       "2021-04-20 09:31:00    6.383953e+06                 123.0      190.73   \n",
       "2021-04-20 09:32:00    4.952529e+06                 144.0      190.50   \n",
       "2021-04-20 09:33:00    2.388168e+06                  98.0      191.33   \n",
       "2021-04-20 09:34:00    1.829149e+06                  74.0      187.08   \n",
       "\n",
       "                     marketClose  marketChangeOverTime    year  ...  \\\n",
       "timestamp                                                       ...   \n",
       "2021-04-20 09:30:00      193.640              0.000000  2021.0  ...   \n",
       "2021-04-20 09:31:00      189.859              0.001917  2021.0  ...   \n",
       "2021-04-20 09:32:00      196.130             -0.001401  2021.0  ...   \n",
       "2021-04-20 09:33:00      192.730             -0.002486  2021.0  ...   \n",
       "2021-04-20 09:34:00      193.100             -0.002895  2021.0  ...   \n",
       "\n",
       "                     weekday_Tuesday  weekday_Wednesday  hour_of_day_10  \\\n",
       "timestamp                                                                 \n",
       "2021-04-20 09:30:00              1.0                0.0             0.0   \n",
       "2021-04-20 09:31:00              1.0                0.0             0.0   \n",
       "2021-04-20 09:32:00              1.0                0.0             0.0   \n",
       "2021-04-20 09:33:00              1.0                0.0             0.0   \n",
       "2021-04-20 09:34:00              1.0                0.0             0.0   \n",
       "\n",
       "                     hour_of_day_11  hour_of_day_12  hour_of_day_13  \\\n",
       "timestamp                                                             \n",
       "2021-04-20 09:30:00             0.0             0.0             0.0   \n",
       "2021-04-20 09:31:00             0.0             0.0             0.0   \n",
       "2021-04-20 09:32:00             0.0             0.0             0.0   \n",
       "2021-04-20 09:33:00             0.0             0.0             0.0   \n",
       "2021-04-20 09:34:00             0.0             0.0             0.0   \n",
       "\n",
       "                     hour_of_day_14  hour_of_day_15  future_value  \\\n",
       "timestamp                                                           \n",
       "2021-04-20 09:30:00             0.0             0.0       193.926   \n",
       "2021-04-20 09:31:00             0.0             0.0       192.390   \n",
       "2021-04-20 09:32:00             0.0             0.0       188.890   \n",
       "2021-04-20 09:33:00             0.0             0.0       193.930   \n",
       "2021-04-20 09:34:00             0.0             0.0       195.470   \n",
       "\n",
       "                     future_value_change  \n",
       "timestamp                                 \n",
       "2021-04-20 09:30:00            -0.007921  \n",
       "2021-04-20 09:31:00            -0.018192  \n",
       "2021-04-20 09:32:00             0.026682  \n",
       "2021-04-20 09:33:00             0.007941  \n",
       "2021-04-20 09:34:00            -0.043536  \n",
       "\n",
       "[5 rows x 29 columns]"
      ]
     },
     "execution_count": 7,
     "metadata": {},
     "output_type": "execute_result"
    }
   ],
   "source": [
    "# We don't want to include the original value of the one-hot-encoded variables\n",
    "features_to_exclude = ['weekday', 'hour_of_day']\n",
    "exported_data = feature_generator.export(\n",
    "    target_feature='future_value_change',\n",
    "    features_to_exclude=features_to_exclude\n",
    ")\n",
    "exported_data.head()"
   ]
  },
  {
   "cell_type": "markdown",
   "metadata": {},
   "source": [
    "Now, we will instantiate an instance of the Dataset class, which manages normalization, train/test split, and saving/loading for us:"
   ]
  },
  {
   "cell_type": "code",
   "execution_count": 8,
   "metadata": {},
   "outputs": [
    {
     "data": {
      "text/plain": [
       "(1842, 60, 29)"
      ]
     },
     "execution_count": 8,
     "metadata": {},
     "output_type": "execute_result"
    }
   ],
   "source": [
    "dataset = Dataset(\n",
    "    df=exported_data,\n",
    "    train_fraction=0.7,\n",
    "    target_max_threshold=float('inf')\n",
    ")\n",
    "\n",
    "dataset.train.shape"
   ]
  },
  {
   "cell_type": "markdown",
   "metadata": {},
   "source": [
    "We can easily save this dataset to the disk for later use:"
   ]
  },
  {
   "cell_type": "code",
   "execution_count": 9,
   "metadata": {},
   "outputs": [
    {
     "name": "stdout",
     "output_type": "stream",
     "text": [
      "Successfully saved dataset to `exported_data/datasets/1619751670-T/*`\n"
     ]
    }
   ],
   "source": [
    "data_path = dataset.save_to_disk(CommonTickers.ATT.ticker)"
   ]
  },
  {
   "cell_type": "markdown",
   "metadata": {},
   "source": [
    "And we can reload that dataset easily, like this:"
   ]
  },
  {
   "cell_type": "code",
   "execution_count": 10,
   "metadata": {},
   "outputs": [],
   "source": [
    "dataset_from_disk = Dataset(folder_path=data_path)"
   ]
  },
  {
   "cell_type": "markdown",
   "metadata": {},
   "source": [
    "For a sanity check, let's make sure all of the data was saved/retrieved losslessly:"
   ]
  },
  {
   "cell_type": "code",
   "execution_count": 11,
   "metadata": {},
   "outputs": [
    {
     "data": {
      "text/plain": [
       "True"
      ]
     },
     "execution_count": 11,
     "metadata": {},
     "output_type": "execute_result"
    }
   ],
   "source": [
    "np.array_equal(dataset.train, dataset_from_disk.train)"
   ]
  },
  {
   "cell_type": "code",
   "execution_count": 12,
   "metadata": {},
   "outputs": [
    {
     "data": {
      "text/plain": [
       "True"
      ]
     },
     "execution_count": 12,
     "metadata": {},
     "output_type": "execute_result"
    }
   ],
   "source": [
    "np.array_equal(dataset.val, dataset_from_disk.val)"
   ]
  },
  {
   "cell_type": "code",
   "execution_count": 13,
   "metadata": {},
   "outputs": [
    {
     "data": {
      "text/plain": [
       "True"
      ]
     },
     "execution_count": 13,
     "metadata": {},
     "output_type": "execute_result"
    }
   ],
   "source": [
    "np.array_equal(dataset.test, dataset_from_disk.test)"
   ]
  },
  {
   "cell_type": "markdown",
   "metadata": {},
   "source": [
    "Now that we have all of our data loaded, let's train an example model!"
   ]
  },
  {
   "cell_type": "code",
   "execution_count": 14,
   "metadata": {},
   "outputs": [],
   "source": [
    "def compile_and_fit(model, ds, patience=5, epochs=50):\n",
    "\n",
    "    model.compile(loss=tf.losses.MeanSquaredError(),\n",
    "                optimizer=tf.optimizers.Adam(),\n",
    "                metrics=[tf.metrics.MeanAbsoluteError()])\n",
    "\n",
    "    history = model.fit(ds.train_X, ds.train_y, epochs=epochs,\n",
    "                      validation_data=(ds.val_X, ds.val_y))\n",
    "    return history"
   ]
  },
  {
   "cell_type": "code",
   "execution_count": 15,
   "metadata": {},
   "outputs": [
    {
     "name": "stdout",
     "output_type": "stream",
     "text": [
      "Epoch 1/10\n",
      "58/58 [==============================] - 1s 4ms/step - loss: 29064660992.0000 - mean_absolute_error: 84980.5234 - val_loss: 245446912.0000 - val_mean_absolute_error: 12688.5312\n",
      "Epoch 2/10\n",
      "58/58 [==============================] - 0s 1ms/step - loss: 82341312.0000 - mean_absolute_error: 4118.1958 - val_loss: 457151.8750 - val_mean_absolute_error: 669.4212\n",
      "Epoch 3/10\n",
      "58/58 [==============================] - 0s 1ms/step - loss: 366786.4375 - mean_absolute_error: 487.9862 - val_loss: 156218.1250 - val_mean_absolute_error: 375.1725\n",
      "Epoch 4/10\n",
      "58/58 [==============================] - 0s 1ms/step - loss: 154551.1719 - mean_absolute_error: 344.6838 - val_loss: 149573.0781 - val_mean_absolute_error: 364.7361\n",
      "Epoch 5/10\n",
      "58/58 [==============================] - 0s 1ms/step - loss: 151343.8125 - mean_absolute_error: 334.1245 - val_loss: 154520.5312 - val_mean_absolute_error: 373.6835\n",
      "Epoch 6/10\n",
      "58/58 [==============================] - 0s 1ms/step - loss: 149884.0000 - mean_absolute_error: 339.0676 - val_loss: 133499.2656 - val_mean_absolute_error: 337.6716\n",
      "Epoch 7/10\n",
      "58/58 [==============================] - 0s 1ms/step - loss: 148198.2812 - mean_absolute_error: 332.9726 - val_loss: 142197.8125 - val_mean_absolute_error: 354.4622\n",
      "Epoch 8/10\n",
      "58/58 [==============================] - 0s 1ms/step - loss: 146093.0312 - mean_absolute_error: 330.6486 - val_loss: 143788.2344 - val_mean_absolute_error: 358.2897\n",
      "Epoch 9/10\n",
      "58/58 [==============================] - 0s 1ms/step - loss: 143931.8594 - mean_absolute_error: 327.7151 - val_loss: 144335.1406 - val_mean_absolute_error: 360.2096\n",
      "Epoch 10/10\n",
      "58/58 [==============================] - 0s 1ms/step - loss: 142267.5781 - mean_absolute_error: 328.5789 - val_loss: 133169.3438 - val_mean_absolute_error: 341.5673\n"
     ]
    }
   ],
   "source": [
    "dense_model = tf.keras.Sequential([\n",
    "    tf.keras.layers.Dense(units=60, activation='relu'),\n",
    "    tf.keras.layers.Dense(units=1)\n",
    "])\n",
    "history = compile_and_fit(dense_model, dataset, 5999, 10)"
   ]
  },
  {
   "cell_type": "markdown",
   "metadata": {},
   "source": [
    "Obviously this model sucks lol since this is completely random data we are working with (because we pulled from sandbox). BUT the loss does decrease with each epoch, so something must be working right!\n",
    "\n",
    "Feel free to mess around with the library and create your own models!"
   ]
  }
 ],
 "metadata": {
  "kernelspec": {
   "display_name": "Python 3",
   "language": "python",
   "name": "python3"
  },
  "language_info": {
   "codemirror_mode": {
    "name": "ipython",
    "version": 3
   },
   "file_extension": ".py",
   "mimetype": "text/x-python",
   "name": "python",
   "nbconvert_exporter": "python",
   "pygments_lexer": "ipython3",
   "version": "3.9.0"
  }
 },
 "nbformat": 4,
 "nbformat_minor": 4
}
